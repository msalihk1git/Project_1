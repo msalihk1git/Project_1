{
  "cells": [
    {
      "cell_type": "markdown",
      "metadata": {
        "colab_type": "text",
        "id": "view-in-github"
      },
      "source": [
        "<a href=\"https://colab.research.google.com/github/msalihk1git/Project_1/blob/main/Copy_of_Pima_Indian_Diabetes_Project.ipynb\" target=\"_parent\"><img src=\"https://colab.research.google.com/assets/colab-badge.svg\" alt=\"Open In Colab\"/></a>"
      ]
    },
    {
      "cell_type": "code",
      "execution_count": null,
      "metadata": {
        "colab": {
          "base_uri": "https://localhost:8080/"
        },
        "id": "0eeTfpsfr_nn",
        "outputId": "d9926138-220a-48f0-9ccb-064c9386f3bf"
      },
      "outputs": [
        {
          "ename": "",
          "evalue": "",
          "output_type": "error",
          "traceback": [
            "\u001b[1;31mRunning cells with 'Python 3.9.12 ('PROJECT_1')' requires ipykernel package.\n",
            "\u001b[1;31mRun the following command to install 'ipykernel' into the Python environment. \n",
            "\u001b[1;31mCommand: 'conda install -n PROJECT_1 ipykernel --update-deps --force-reinstall'"
          ]
        }
      ],
      "source": [
        "from google.colab import drive\n",
        "drive.mount('/content/drive')"
      ]
    },
    {
      "cell_type": "code",
      "execution_count": null,
      "metadata": {
        "id": "clLugZ2Y8b5-"
      },
      "outputs": [
        {
          "ename": "",
          "evalue": "",
          "output_type": "error",
          "traceback": [
            "\u001b[1;31mRunning cells with 'Python 3.9.12 ('PROJECT_1')' requires ipykernel package.\n",
            "\u001b[1;31mRun the following command to install 'ipykernel' into the Python environment. \n",
            "\u001b[1;31mCommand: 'conda install -n PROJECT_1 ipykernel --update-deps --force-reinstall'"
          ]
        }
      ],
      "source": [
        "#loading required libraries\n",
        "import pandas as pd\n",
        "import numpy as np\n",
        "import seaborn as sns\n",
        "import matplotlib.pyplot as plt\n",
        "import warnings\n",
        "warnings.filterwarnings(\"ignore\")\n",
        "from sklearn.model_selection import train_test_split\n",
        "from sklearn.preprocessing import StandardScaler\n",
        "from sklearn.linear_model import LogisticRegression\n",
        "from sklearn.tree import DecisionTreeClassifier\n",
        "from sklearn.ensemble import RandomForestClassifier\n",
        "from sklearn.ensemble import AdaBoostClassifier\n",
        "from sklearn.ensemble import GradientBoostingClassifier\n",
        "from sklearn.neighbors import KNeighborsClassifier\n",
        "from sklearn.naive_bayes import GaussianNB \n",
        "from sklearn.ensemble import VotingClassifier\n",
        "from xgboost import XGBClassifier\n",
        "from sklearn.svm import SVC\n",
        "from sklearn.metrics import accuracy_score\n"
      ]
    },
    {
      "cell_type": "code",
      "execution_count": null,
      "metadata": {
        "colab": {
          "base_uri": "https://localhost:8080/",
          "height": 206
        },
        "id": "pjHpee5w8mcR",
        "outputId": "f3e816ce-c7ef-4274-e569-2d6f30037960"
      },
      "outputs": [
        {
          "ename": "",
          "evalue": "",
          "output_type": "error",
          "traceback": [
            "\u001b[1;31mRunning cells with 'Python 3.9.12 ('PROJECT_1')' requires ipykernel package.\n",
            "\u001b[1;31mRun the following command to install 'ipykernel' into the Python environment. \n",
            "\u001b[1;31mCommand: 'conda install -n PROJECT_1 ipykernel --update-deps --force-reinstall'"
          ]
        }
      ],
      "source": [
        "#loading the dataset\n",
        "df=pd.read_csv(r\"/content/drive/MyDrive/Luminar_Projects/Project/Project_1/diabetes.csv\")\n",
        "df.head()"
      ]
    },
    {
      "cell_type": "markdown",
      "metadata": {
        "id": "8NCgFz48APTI"
      },
      "source": [
        "**Basics** EDA\n"
      ]
    },
    {
      "cell_type": "code",
      "execution_count": null,
      "metadata": {
        "colab": {
          "base_uri": "https://localhost:8080/"
        },
        "id": "T6zIIaPo9MW7",
        "outputId": "31d32914-e841-4e9e-f936-e83cf1e1df7e"
      },
      "outputs": [
        {
          "ename": "",
          "evalue": "",
          "output_type": "error",
          "traceback": [
            "\u001b[1;31mRunning cells with 'Python 3.9.12 ('PROJECT_1')' requires ipykernel package.\n",
            "\u001b[1;31mRun the following command to install 'ipykernel' into the Python environment. \n",
            "\u001b[1;31mCommand: 'conda install -n PROJECT_1 ipykernel --update-deps --force-reinstall'"
          ]
        }
      ],
      "source": [
        "#checking the unique values in Target variable\n",
        "df[\"Outcome\"].unique()"
      ]
    },
    {
      "cell_type": "code",
      "execution_count": null,
      "metadata": {
        "colab": {
          "base_uri": "https://localhost:8080/",
          "height": 279
        },
        "id": "G0SU-w479_Jh",
        "outputId": "545eefaa-09ed-47f7-fb67-811663b4c430"
      },
      "outputs": [
        {
          "ename": "",
          "evalue": "",
          "output_type": "error",
          "traceback": [
            "\u001b[1;31mRunning cells with 'Python 3.9.12 ('PROJECT_1')' requires ipykernel package.\n",
            "\u001b[1;31mRun the following command to install 'ipykernel' into the Python environment. \n",
            "\u001b[1;31mCommand: 'conda install -n PROJECT_1 ipykernel --update-deps --force-reinstall'"
          ]
        }
      ],
      "source": [
        "#plotting the target variable\n",
        "sns.countplot(x=\"Outcome\",data=df)\n",
        "plt.show()"
      ]
    },
    {
      "cell_type": "code",
      "execution_count": null,
      "metadata": {
        "colab": {
          "base_uri": "https://localhost:8080/"
        },
        "id": "wpSBk9Va_3na",
        "outputId": "a32dd7b7-81e4-4888-e08c-f01844142cef"
      },
      "outputs": [
        {
          "ename": "",
          "evalue": "",
          "output_type": "error",
          "traceback": [
            "\u001b[1;31mRunning cells with 'Python 3.9.12 ('PROJECT_1')' requires ipykernel package.\n",
            "\u001b[1;31mRun the following command to install 'ipykernel' into the Python environment. \n",
            "\u001b[1;31mCommand: 'conda install -n PROJECT_1 ipykernel --update-deps --force-reinstall'"
          ]
        }
      ],
      "source": [
        "#checking the value count in Target variable\n",
        "df[\"Outcome\"].value_counts()"
      ]
    },
    {
      "cell_type": "code",
      "execution_count": null,
      "metadata": {
        "colab": {
          "base_uri": "https://localhost:8080/"
        },
        "id": "wA6aQToP_5Un",
        "outputId": "94d364ff-1015-4e42-eea1-2efe2654f3e5"
      },
      "outputs": [
        {
          "ename": "",
          "evalue": "",
          "output_type": "error",
          "traceback": [
            "\u001b[1;31mRunning cells with 'Python 3.9.12 ('PROJECT_1')' requires ipykernel package.\n",
            "\u001b[1;31mRun the following command to install 'ipykernel' into the Python environment. \n",
            "\u001b[1;31mCommand: 'conda install -n PROJECT_1 ipykernel --update-deps --force-reinstall'"
          ]
        }
      ],
      "source": [
        "#Shape of the dataset\n",
        "df.shape"
      ]
    },
    {
      "cell_type": "code",
      "execution_count": null,
      "metadata": {
        "colab": {
          "base_uri": "https://localhost:8080/"
        },
        "id": "EEhYaPVaAJgJ",
        "outputId": "5ed24353-c584-489e-91d0-bb3a31ebd5c3"
      },
      "outputs": [
        {
          "ename": "",
          "evalue": "",
          "output_type": "error",
          "traceback": [
            "\u001b[1;31mRunning cells with 'Python 3.9.12 ('PROJECT_1')' requires ipykernel package.\n",
            "\u001b[1;31mRun the following command to install 'ipykernel' into the Python environment. \n",
            "\u001b[1;31mCommand: 'conda install -n PROJECT_1 ipykernel --update-deps --force-reinstall'"
          ]
        }
      ],
      "source": [
        "#Dataset information\n",
        "df.info()"
      ]
    },
    {
      "cell_type": "code",
      "execution_count": null,
      "metadata": {
        "colab": {
          "base_uri": "https://localhost:8080/"
        },
        "id": "y_HGsuFO_zT0",
        "outputId": "eea1e2bb-cb3f-4b3a-ee17-d02bc81f6411"
      },
      "outputs": [
        {
          "ename": "",
          "evalue": "",
          "output_type": "error",
          "traceback": [
            "\u001b[1;31mRunning cells with 'Python 3.9.12 ('PROJECT_1')' requires ipykernel package.\n",
            "\u001b[1;31mRun the following command to install 'ipykernel' into the Python environment. \n",
            "\u001b[1;31mCommand: 'conda install -n PROJECT_1 ipykernel --update-deps --force-reinstall'"
          ]
        }
      ],
      "source": [
        "#Identify the missing values\n",
        "df.isna().sum()"
      ]
    },
    {
      "cell_type": "code",
      "execution_count": null,
      "metadata": {
        "colab": {
          "base_uri": "https://localhost:8080/",
          "height": 332
        },
        "id": "-lauIgEPAjNL",
        "outputId": "57c5dc45-ccf5-4832-b363-a5f7a8be3d42"
      },
      "outputs": [
        {
          "ename": "",
          "evalue": "",
          "output_type": "error",
          "traceback": [
            "\u001b[1;31mRunning cells with 'Python 3.9.12 ('PROJECT_1')' requires ipykernel package.\n",
            "\u001b[1;31mRun the following command to install 'ipykernel' into the Python environment. \n",
            "\u001b[1;31mCommand: 'conda install -n PROJECT_1 ipykernel --update-deps --force-reinstall'"
          ]
        }
      ],
      "source": [
        "#Describe the data\n",
        "df.describe().T"
      ]
    },
    {
      "cell_type": "code",
      "execution_count": null,
      "metadata": {
        "colab": {
          "base_uri": "https://localhost:8080/"
        },
        "id": "WKZYAtkjAprJ",
        "outputId": "c737a075-3fa5-42b7-d133-cfb35488894b"
      },
      "outputs": [
        {
          "ename": "",
          "evalue": "",
          "output_type": "error",
          "traceback": [
            "\u001b[1;31mRunning cells with 'Python 3.9.12 ('PROJECT_1')' requires ipykernel package.\n",
            "\u001b[1;31mRun the following command to install 'ipykernel' into the Python environment. \n",
            "\u001b[1;31mCommand: 'conda install -n PROJECT_1 ipykernel --update-deps --force-reinstall'"
          ]
        }
      ],
      "source": [
        "#Correlation on Dataset based on target variable\n",
        "df.corr()[\"Outcome\"]"
      ]
    },
    {
      "cell_type": "code",
      "execution_count": null,
      "metadata": {
        "colab": {
          "base_uri": "https://localhost:8080/",
          "height": 511
        },
        "id": "B4qHXcM5A_Yq",
        "outputId": "1fcf590b-5477-4992-825b-b4e804ae9c3d"
      },
      "outputs": [
        {
          "ename": "",
          "evalue": "",
          "output_type": "error",
          "traceback": [
            "\u001b[1;31mRunning cells with 'Python 3.9.12 ('PROJECT_1')' requires ipykernel package.\n",
            "\u001b[1;31mRun the following command to install 'ipykernel' into the Python environment. \n",
            "\u001b[1;31mCommand: 'conda install -n PROJECT_1 ipykernel --update-deps --force-reinstall'"
          ]
        }
      ],
      "source": [
        "#Correlation using heat map in input Dataset\n",
        "\n",
        "plt.figure(figsize=(6,6))\n",
        "sns.heatmap(df.corr(),annot=True,cmap=\"YlGnBu\")\n",
        "plt.title(\"Correlation Plot - Heat Map\")\n",
        "plt.show()"
      ]
    },
    {
      "cell_type": "code",
      "execution_count": null,
      "metadata": {
        "colab": {
          "base_uri": "https://localhost:8080/",
          "height": 933
        },
        "id": "rYqe0g-wBzwk",
        "outputId": "876bc966-5b6a-4cf8-940b-7577693721aa"
      },
      "outputs": [
        {
          "ename": "",
          "evalue": "",
          "output_type": "error",
          "traceback": [
            "\u001b[1;31mRunning cells with 'Python 3.9.12 ('PROJECT_1')' requires ipykernel package.\n",
            "\u001b[1;31mRun the following command to install 'ipykernel' into the Python environment. \n",
            "\u001b[1;31mCommand: 'conda install -n PROJECT_1 ipykernel --update-deps --force-reinstall'"
          ]
        }
      ],
      "source": [
        "#Pairplot using sns\n",
        "sns.pairplot(df,hue=\"Outcome\")"
      ]
    },
    {
      "cell_type": "code",
      "execution_count": null,
      "metadata": {
        "colab": {
          "base_uri": "https://localhost:8080/"
        },
        "id": "OW7exG65LQDn",
        "outputId": "06b156c0-3037-460c-c3f4-92888874b9de"
      },
      "outputs": [
        {
          "ename": "",
          "evalue": "",
          "output_type": "error",
          "traceback": [
            "\u001b[1;31mRunning cells with 'Python 3.9.12 ('PROJECT_1')' requires ipykernel package.\n",
            "\u001b[1;31mRun the following command to install 'ipykernel' into the Python environment. \n",
            "\u001b[1;31mCommand: 'conda install -n PROJECT_1 ipykernel --update-deps --force-reinstall'"
          ]
        }
      ],
      "source": [
        "print(\"Total zero Glucose values:\" + str(df[df[\"Glucose\"]==0].shape[0]))\n",
        "print(\"Total zero BloodPressure values:\"+str(df[df[\"BloodPressure\"]==0].shape[0]))\n",
        "print(\"Total zero SkinThickness values:\"+str(df[df[\"SkinThickness\"]==0].shape[0]))\n",
        "print(\"Total zero Insulin values:\"+str(df[df[\"Insulin\"]==0].shape[0]))\n",
        "print(\"Total zero BMI' values:\"+str(df[df[\"BMI\"]==0].shape[0]))\n",
        "print(\"Total zero DiabetesPedigreeFunction values:\"+str(df[df[\"DiabetesPedigreeFunction\"]==0].shape[0]))\n",
        "print(\"Total zero Age values:\"+str(df[df[\"Age\"]==0].shape[0]))\n",
        "\n"
      ]
    },
    {
      "cell_type": "code",
      "execution_count": null,
      "metadata": {
        "id": "XbGqkmnuIJ_u"
      },
      "outputs": [
        {
          "ename": "",
          "evalue": "",
          "output_type": "error",
          "traceback": [
            "\u001b[1;31mRunning cells with 'Python 3.9.12 ('PROJECT_1')' requires ipykernel package.\n",
            "\u001b[1;31mRun the following command to install 'ipykernel' into the Python environment. \n",
            "\u001b[1;31mCommand: 'conda install -n PROJECT_1 ipykernel --update-deps --force-reinstall'"
          ]
        }
      ],
      "source": [
        "#Missing Value treatment\n",
        "\n",
        "df['Glucose'].loc[(df['Glucose']==0)]=df['Glucose'].median()\n",
        "df['BloodPressure'].loc[(df['BloodPressure']==0)]=df['BloodPressure'].median()\n",
        "df['SkinThickness'].loc[(df['SkinThickness']==0)]=df['SkinThickness'].median()\n",
        "df['Insulin'].loc[(df['Insulin']==0)]=df['Insulin'].median()\n",
        "df['BMI'].loc[(df['BMI']==0)]=df['BMI'].median()\n",
        "\n",
        "\n"
      ]
    },
    {
      "cell_type": "code",
      "execution_count": null,
      "metadata": {
        "colab": {
          "base_uri": "https://localhost:8080/",
          "height": 206
        },
        "id": "gNObUCNeDDNT",
        "outputId": "fc4f0a6b-1ba1-4b62-cdbf-55a711298e42"
      },
      "outputs": [
        {
          "ename": "",
          "evalue": "",
          "output_type": "error",
          "traceback": [
            "\u001b[1;31mRunning cells with 'Python 3.9.12 ('PROJECT_1')' requires ipykernel package.\n",
            "\u001b[1;31mRun the following command to install 'ipykernel' into the Python environment. \n",
            "\u001b[1;31mCommand: 'conda install -n PROJECT_1 ipykernel --update-deps --force-reinstall'"
          ]
        }
      ],
      "source": [
        "df.head()"
      ]
    },
    {
      "cell_type": "code",
      "execution_count": null,
      "metadata": {
        "colab": {
          "base_uri": "https://localhost:8080/"
        },
        "id": "KKEPPZqVEw-a",
        "outputId": "731b5c7e-79e7-48b4-8f2b-18d6cb7b6aaa"
      },
      "outputs": [
        {
          "ename": "",
          "evalue": "",
          "output_type": "error",
          "traceback": [
            "\u001b[1;31mRunning cells with 'Python 3.9.12 ('PROJECT_1')' requires ipykernel package.\n",
            "\u001b[1;31mRun the following command to install 'ipykernel' into the Python environment. \n",
            "\u001b[1;31mCommand: 'conda install -n PROJECT_1 ipykernel --update-deps --force-reinstall'"
          ]
        }
      ],
      "source": [
        "df.isna().sum()"
      ]
    },
    {
      "cell_type": "markdown",
      "metadata": {
        "id": "wl1zI-MDF4ho"
      },
      "source": [
        "**Outlier Treatment**"
      ]
    },
    {
      "cell_type": "code",
      "execution_count": null,
      "metadata": {
        "colab": {
          "base_uri": "https://localhost:8080/",
          "height": 296
        },
        "id": "049aIuelHh5q",
        "outputId": "0dc0249e-f629-4509-db5e-364f6f38889e"
      },
      "outputs": [
        {
          "ename": "",
          "evalue": "",
          "output_type": "error",
          "traceback": [
            "\u001b[1;31mRunning cells with 'Python 3.9.12 ('PROJECT_1')' requires ipykernel package.\n",
            "\u001b[1;31mRun the following command to install 'ipykernel' into the Python environment. \n",
            "\u001b[1;31mCommand: 'conda install -n PROJECT_1 ipykernel --update-deps --force-reinstall'"
          ]
        }
      ],
      "source": [
        "sns.boxplot(df[\"SkinThickness\"])"
      ]
    },
    {
      "cell_type": "code",
      "execution_count": null,
      "metadata": {
        "colab": {
          "base_uri": "https://localhost:8080/"
        },
        "id": "ufYj_01aFwSF",
        "outputId": "ef5d65f6-7c80-4d07-9607-6188d5744307"
      },
      "outputs": [
        {
          "ename": "",
          "evalue": "",
          "output_type": "error",
          "traceback": [
            "\u001b[1;31mRunning cells with 'Python 3.9.12 ('PROJECT_1')' requires ipykernel package.\n",
            "\u001b[1;31mRun the following command to install 'ipykernel' into the Python environment. \n",
            "\u001b[1;31mCommand: 'conda install -n PROJECT_1 ipykernel --update-deps --force-reinstall'"
          ]
        }
      ],
      "source": [
        "df['SkinThickness'].mean()+df['SkinThickness'].std()*3"
      ]
    },
    {
      "cell_type": "code",
      "execution_count": null,
      "metadata": {
        "colab": {
          "base_uri": "https://localhost:8080/"
        },
        "id": "EtH6aJ0gHYhu",
        "outputId": "0e5dee3a-5ef0-4a72-b85a-3fa4d169eb58"
      },
      "outputs": [
        {
          "ename": "",
          "evalue": "",
          "output_type": "error",
          "traceback": [
            "\u001b[1;31mRunning cells with 'Python 3.9.12 ('PROJECT_1')' requires ipykernel package.\n",
            "\u001b[1;31mRun the following command to install 'ipykernel' into the Python environment. \n",
            "\u001b[1;31mCommand: 'conda install -n PROJECT_1 ipykernel --update-deps --force-reinstall'"
          ]
        }
      ],
      "source": [
        "numericalColumns=df.select_dtypes(include=np.number).columns\n",
        "numericalColumns"
      ]
    },
    {
      "cell_type": "code",
      "execution_count": null,
      "metadata": {
        "id": "MEZzzsXtGVVR"
      },
      "outputs": [
        {
          "ename": "",
          "evalue": "",
          "output_type": "error",
          "traceback": [
            "\u001b[1;31mRunning cells with 'Python 3.9.12 ('PROJECT_1')' requires ipykernel package.\n",
            "\u001b[1;31mRun the following command to install 'ipykernel' into the Python environment. \n",
            "\u001b[1;31mCommand: 'conda install -n PROJECT_1 ipykernel --update-deps --force-reinstall'"
          ]
        }
      ],
      "source": [
        "descreteCols=[]\n",
        "continousCols=[]\n",
        "\n",
        "for column in numericalColumns:\n",
        "  if df[column].nunique()>20:\n",
        "    continousCols.append(column)\n",
        "  else:\n",
        "    descreteCols.append(column)\n"
      ]
    },
    {
      "cell_type": "code",
      "execution_count": null,
      "metadata": {
        "colab": {
          "base_uri": "https://localhost:8080/"
        },
        "id": "ynAecvElHqNq",
        "outputId": "debb5251-1009-4011-ab38-59ddc1a3657a"
      },
      "outputs": [
        {
          "ename": "",
          "evalue": "",
          "output_type": "error",
          "traceback": [
            "\u001b[1;31mRunning cells with 'Python 3.9.12 ('PROJECT_1')' requires ipykernel package.\n",
            "\u001b[1;31mRun the following command to install 'ipykernel' into the Python environment. \n",
            "\u001b[1;31mCommand: 'conda install -n PROJECT_1 ipykernel --update-deps --force-reinstall'"
          ]
        }
      ],
      "source": [
        "continousCols"
      ]
    },
    {
      "cell_type": "code",
      "execution_count": null,
      "metadata": {
        "colab": {
          "base_uri": "https://localhost:8080/"
        },
        "id": "Z2PaNHYSHs9d",
        "outputId": "12e386e6-e6df-48e1-8257-b7519ac94063"
      },
      "outputs": [
        {
          "ename": "",
          "evalue": "",
          "output_type": "error",
          "traceback": [
            "\u001b[1;31mRunning cells with 'Python 3.9.12 ('PROJECT_1')' requires ipykernel package.\n",
            "\u001b[1;31mRun the following command to install 'ipykernel' into the Python environment. \n",
            "\u001b[1;31mCommand: 'conda install -n PROJECT_1 ipykernel --update-deps --force-reinstall'"
          ]
        }
      ],
      "source": [
        "descreteCols"
      ]
    },
    {
      "cell_type": "code",
      "execution_count": null,
      "metadata": {
        "id": "KR3FiwHpHvxf"
      },
      "outputs": [
        {
          "ename": "",
          "evalue": "",
          "output_type": "error",
          "traceback": [
            "\u001b[1;31mRunning cells with 'Python 3.9.12 ('PROJECT_1')' requires ipykernel package.\n",
            "\u001b[1;31mRun the following command to install 'ipykernel' into the Python environment. \n",
            "\u001b[1;31mCommand: 'conda install -n PROJECT_1 ipykernel --update-deps --force-reinstall'"
          ]
        }
      ],
      "source": [
        "for column in continousCols:\n",
        "  upper_lim=df[column].mean()+df[column].std()*3\n",
        "  lower_lim=df[column].mean()-df[column].std()*3\n",
        "\n",
        "  df.loc[(df[column] > upper_lim),column] = upper_lim\n",
        "  df.loc[(df[column] < lower_lim),column] = lower_lim"
      ]
    },
    {
      "cell_type": "markdown",
      "metadata": {
        "id": "8LnXg9jBJJZ1"
      },
      "source": [
        "**Train Test Split**"
      ]
    },
    {
      "cell_type": "code",
      "execution_count": null,
      "metadata": {
        "id": "YfWHw5GjI7wz"
      },
      "outputs": [
        {
          "ename": "",
          "evalue": "",
          "output_type": "error",
          "traceback": [
            "\u001b[1;31mRunning cells with 'Python 3.9.12 ('PROJECT_1')' requires ipykernel package.\n",
            "\u001b[1;31mRun the following command to install 'ipykernel' into the Python environment. \n",
            "\u001b[1;31mCommand: 'conda install -n PROJECT_1 ipykernel --update-deps --force-reinstall'"
          ]
        }
      ],
      "source": [
        "X=df.drop([\"Outcome\"],axis=1)\n",
        "y=df[\"Outcome\"]\n",
        "X_train,X_test,y_train,y_test=train_test_split(X,y,test_size=0.3,random_state=10)"
      ]
    },
    {
      "cell_type": "markdown",
      "metadata": {
        "id": "pjDDroJNKnM2"
      },
      "source": [
        "**Scale Down**"
      ]
    },
    {
      "cell_type": "code",
      "execution_count": null,
      "metadata": {
        "colab": {
          "base_uri": "https://localhost:8080/"
        },
        "id": "-UoWRk0JKdGe",
        "outputId": "f94edebb-7d8c-4673-9a71-35d957d3d88f"
      },
      "outputs": [
        {
          "ename": "",
          "evalue": "",
          "output_type": "error",
          "traceback": [
            "\u001b[1;31mRunning cells with 'Python 3.9.12 ('PROJECT_1')' requires ipykernel package.\n",
            "\u001b[1;31mRun the following command to install 'ipykernel' into the Python environment. \n",
            "\u001b[1;31mCommand: 'conda install -n PROJECT_1 ipykernel --update-deps --force-reinstall'"
          ]
        }
      ],
      "source": [
        "scale=StandardScaler()\n",
        "X_train_scaled=scale.fit_transform(X_train)\n",
        "X_test_scaled=scale.transform(X_test)\n",
        "\n",
        "import joblib \n",
        "joblib.dump(scale,'/content/drive/MyDrive/Luminar_Projects/Project/Project_1/scale.pk1')"
      ]
    },
    {
      "cell_type": "markdown",
      "metadata": {
        "id": "tlQQFIFQLYsB"
      },
      "source": [
        "**Apply all classification Algorithms**"
      ]
    },
    {
      "cell_type": "code",
      "execution_count": null,
      "metadata": {
        "colab": {
          "base_uri": "https://localhost:8080/"
        },
        "id": "lPI5vedhLG2v",
        "outputId": "e2f1c667-56ca-41ef-96f5-ae53b54e261b"
      },
      "outputs": [
        {
          "ename": "",
          "evalue": "",
          "output_type": "error",
          "traceback": [
            "\u001b[1;31mRunning cells with 'Python 3.9.12 ('PROJECT_1')' requires ipykernel package.\n",
            "\u001b[1;31mRun the following command to install 'ipykernel' into the Python environment. \n",
            "\u001b[1;31mCommand: 'conda install -n PROJECT_1 ipykernel --update-deps --force-reinstall'"
          ]
        }
      ],
      "source": [
        "log =LogisticRegression()\n",
        "dtc =DecisionTreeClassifier()\n",
        "rf = RandomForestClassifier()\n",
        "adb = AdaBoostClassifier()\n",
        "grad = GradientBoostingClassifier()\n",
        "svc = SVC()\n",
        "knn = KNeighborsClassifier()\n",
        "nbc = GaussianNB()\n",
        "\n",
        "voting=VotingClassifier(estimators=[(\"Logistic_Regression\",log),(\"Decision_Tree_Classifier\",dtc),(\"Random_Forest_Classifier\",rf),(\"AdaBoost_Classifier\",adb),(\"Gragient_Boosting_Classifier\",grad),(\"SVC\",svc),(\"KNeighborsClassifier\",knn),(\"GaussianNB\",nbc)],voting=\"hard\")\n",
        "\n",
        "voting.fit(X_train,y_train)"
      ]
    },
    {
      "cell_type": "code",
      "execution_count": null,
      "metadata": {
        "colab": {
          "base_uri": "https://localhost:8080/"
        },
        "id": "fTlD6TcXN9je",
        "outputId": "0f5e05b3-13cb-4b2f-b129-806bfd15722f"
      },
      "outputs": [
        {
          "ename": "",
          "evalue": "",
          "output_type": "error",
          "traceback": [
            "\u001b[1;31mRunning cells with 'Python 3.9.12 ('PROJECT_1')' requires ipykernel package.\n",
            "\u001b[1;31mRun the following command to install 'ipykernel' into the Python environment. \n",
            "\u001b[1;31mCommand: 'conda install -n PROJECT_1 ipykernel --update-deps --force-reinstall'"
          ]
        }
      ],
      "source": [
        "for  clf in (log,dtc,rf,adb,grad,svc,knn,nbc,voting):\n",
        "  clf.fit(X_train,y_train)\n",
        "  y_pred=clf.predict(X_test)\n",
        "  print(clf.__class__.__name__,clf.score(X_train,y_train))\n",
        "  print(clf.__class__.__name__,accuracy_score(y_test,y_pred))\n",
        "  \n",
        "  print(\"===========================\")"
      ]
    },
    {
      "cell_type": "markdown",
      "metadata": {
        "id": "e0tipgZmRb10"
      },
      "source": [
        "**Hyperparameter Tuning**"
      ]
    },
    {
      "cell_type": "code",
      "execution_count": null,
      "metadata": {
        "id": "A5YfeqIOP-CJ"
      },
      "outputs": [
        {
          "ename": "",
          "evalue": "",
          "output_type": "error",
          "traceback": [
            "\u001b[1;31mRunning cells with 'Python 3.9.12 ('PROJECT_1')' requires ipykernel package.\n",
            "\u001b[1;31mRun the following command to install 'ipykernel' into the Python environment. \n",
            "\u001b[1;31mCommand: 'conda install -n PROJECT_1 ipykernel --update-deps --force-reinstall'"
          ]
        }
      ],
      "source": [
        "from sklearn.model_selection import GridSearchCV\n",
        "lr_clf = LogisticRegression()\n",
        "df_clf= DecisionTreeClassifier()\n",
        "rf_clf = RandomForestClassifier()\n",
        "adboost_clf = AdaBoostClassifier()\n",
        "grad_clf = GradientBoostingClassifier()\n",
        "svc_clf = SVC()\n",
        "xgb_clf = XGBClassifier()\n",
        "knn_clf = KNeighborsClassifier()\n",
        "\n",
        "clf_list=[lr_clf,df_clf,rf_clf,adboost_clf,grad_clf,svc_clf,xgb_clf,knn_clf]\n",
        "\n",
        "grid_params_lr= [{'penalty':['l1','l2'],'solver':['saga']}]\n",
        "\n",
        "grid_params_df =[{'criterion':[\"gini\",\"entropy\"], 'splitter':['best','random'],'max_depth':[3,4,5],'min_samples_split':[2,3,4],'max_features':[\"auto\",\"sqrt\",\"log2\"]}]\n",
        "\n",
        "grid_params_rf=[{'n_estimators': [4, 6, 9], 'max_features': ['log2', 'sqrt','auto'], 'criterion': ['entropy', 'gini'],'max_depth': [2, 3, 5, 10]}]\n",
        "\n",
        "grid_params_adboost=[{'n_estimators':[10,50,250,1000],'learning_rate':[0.01,0.1],}]\n",
        "\n",
        "grid_params_grad=[{'loss':['deviance', 'exponential'],'learning_rate':[1,7,9],'criterion':['friedman_mse','mse']}]\n",
        "\n",
        "grid_params_svc=[{'kernel':['linear','poly','rbf'],'degree':[3,4,5]}]\n",
        "\n",
        "grid_params_xgb=[{'booster':['gbtree', 'gblinear'],'nthread':[10,15,25]}]\n",
        "\n",
        "grid_params_knn=[{'n_neighbors':[5,7,9,11],'algorithm':['ball_tree','kd_tree','brute'],'leaf_size':[30,50,100]}]\n",
        "\n",
        "\n",
        "\n",
        "clf_params=[grid_params_lr,grid_params_df,grid_params_rf,grid_params_adboost,grid_params_grad,grid_params_svc,grid_params_xgb,grid_params_knn]"
      ]
    },
    {
      "cell_type": "markdown",
      "metadata": {
        "id": "TT4w5KW0OywQ"
      },
      "source": []
    },
    {
      "cell_type": "code",
      "execution_count": null,
      "metadata": {
        "colab": {
          "base_uri": "https://localhost:8080/"
        },
        "id": "QvFvDLxQTlLM",
        "outputId": "38e60bee-eac4-4e09-ee4a-2b9207265e26"
      },
      "outputs": [
        {
          "ename": "",
          "evalue": "",
          "output_type": "error",
          "traceback": [
            "\u001b[1;31mRunning cells with 'Python 3.9.12 ('PROJECT_1')' requires ipykernel package.\n",
            "\u001b[1;31mRun the following command to install 'ipykernel' into the Python environment. \n",
            "\u001b[1;31mCommand: 'conda install -n PROJECT_1 ipykernel --update-deps --force-reinstall'"
          ]
        }
      ],
      "source": [
        "for clf,clf_param in zip(clf_list,clf_params):\n",
        "  print(f\"The Classifier is {clf} and its hyper params are {clf_param}\")\n",
        "\n",
        "  grid_clf = GridSearchCV(estimator=clf,param_grid=clf_param,scoring=\"accuracy\",cv=10)\n",
        "  grid_clf.fit(X_train_scaled,y_train)\n",
        "  print(f\"The Train accuracy for the {clf} is {grid_clf.score(X_train_scaled,y_train)}\")\n",
        "  print(f\"The Test accuracy for the {clf} is {grid_clf.score(X_test_scaled,y_test)}\")\n",
        "  print(f\"The best param for {clf} is {grid_clf.best_params_}\")\n",
        "  print(\"====================\\n\")"
      ]
    },
    {
      "cell_type": "code",
      "execution_count": null,
      "metadata": {
        "colab": {
          "base_uri": "https://localhost:8080/"
        },
        "id": "usc1CMmO9Wwf",
        "outputId": "37fe8a39-af91-42a7-8c16-eb24592fa71e"
      },
      "outputs": [
        {
          "ename": "",
          "evalue": "",
          "output_type": "error",
          "traceback": [
            "\u001b[1;31mRunning cells with 'Python 3.9.12 ('PROJECT_1')' requires ipykernel package.\n",
            "\u001b[1;31mRun the following command to install 'ipykernel' into the Python environment. \n",
            "\u001b[1;31mCommand: 'conda install -n PROJECT_1 ipykernel --update-deps --force-reinstall'"
          ]
        }
      ],
      "source": [
        "# making the best model \n",
        "\n",
        "rf_clf = RandomForestClassifier(criterion = 'entropy',max_depth = 3,max_features = 'log2',n_estimators = 4)\n",
        "rf_clf.fit(X_train_scaled,y_train)"
      ]
    },
    {
      "cell_type": "code",
      "execution_count": null,
      "metadata": {
        "colab": {
          "base_uri": "https://localhost:8080/"
        },
        "id": "q8oPu_2P977m",
        "outputId": "c6450e2f-7a65-4c4d-d7ff-81c2ddbba02f"
      },
      "outputs": [
        {
          "ename": "",
          "evalue": "",
          "output_type": "error",
          "traceback": [
            "\u001b[1;31mRunning cells with 'Python 3.9.12 ('PROJECT_1')' requires ipykernel package.\n",
            "\u001b[1;31mRun the following command to install 'ipykernel' into the Python environment. \n",
            "\u001b[1;31mCommand: 'conda install -n PROJECT_1 ipykernel --update-deps --force-reinstall'"
          ]
        }
      ],
      "source": [
        "#Pickle file\n",
        "import joblib \n",
        "joblib.dump(rf_clf,'/content/drive/MyDrive/Luminar_Projects/Project/Project_1/model.pkl')"
      ]
    },
    {
      "cell_type": "code",
      "execution_count": null,
      "metadata": {
        "id": "WfSsF37bPl04"
      },
      "outputs": [
        {
          "ename": "",
          "evalue": "",
          "output_type": "error",
          "traceback": [
            "\u001b[1;31mRunning cells with 'Python 3.9.12 ('PROJECT_1')' requires ipykernel package.\n",
            "\u001b[1;31mRun the following command to install 'ipykernel' into the Python environment. \n",
            "\u001b[1;31mCommand: 'conda install -n PROJECT_1 ipykernel --update-deps --force-reinstall'"
          ]
        }
      ],
      "source": []
    }
  ],
  "metadata": {
    "accelerator": "GPU",
    "colab": {
      "include_colab_link": true,
      "name": "Copy_of_Pima_Indian_Diabetes_Project.ipynb",
      "provenance": []
    },
    "gpuClass": "standard",
    "kernelspec": {
      "display_name": "Python 3.9.12 ('PROJECT_1')",
      "language": "python",
      "name": "python3"
    },
    "language_info": {
      "name": "python",
      "version": "3.9.12"
    },
    "vscode": {
      "interpreter": {
        "hash": "9fd5448001685da3037e6d936a2d074766dff3fcd26f8276d2ef2a30670501ca"
      }
    }
  },
  "nbformat": 4,
  "nbformat_minor": 0
}
